{
 "cells": [
  {
   "cell_type": "markdown",
   "id": "47278f72-c12c-47dd-beca-05ed90430318",
   "metadata": {},
   "source": [
    "# moment predictions"
   ]
  },
  {
   "cell_type": "code",
   "execution_count": 27,
   "id": "cec40943-29f2-41c0-a92c-421456726288",
   "metadata": {
    "tags": []
   },
   "outputs": [],
   "source": [
    "#Import\n",
    "import sys\n",
    "sys.path.append(\"../lib\")\n",
    "import basicfunc as func\n",
    "import plotlib as plib\n",
    "\n",
    "import numpy as np\n",
    "import pylab\n",
    "pylab.rcParams['figure.figsize'] = 12, 16\n",
    "import pymaster as nmt\n",
    "import healpy as hp\n",
    "import pysm3\n",
    "import pysm3.units as u\n",
    "import simu_lib as sim\n",
    "import scipy.stats as st\n",
    "\n",
    "def compute_master(f_a, f_b, wsp):\n",
    "    cl_coupled = nmt.compute_coupled_cell(f_a, f_b)\n",
    "    cl_decoupled = wsp.decouple_cell(cl_coupled)\n",
    "    return cl_decoupled\n",
    "\n",
    "def compute_cl(mapd,mask,b):\n",
    "    fa1 = nmt.NmtField(mask, (mapd)*1,purify_e=False, purify_b=True)\n",
    "    wsp = nmt.NmtWorkspace()\n",
    "    wsp.compute_coupling_matrix(fa1, fa1, b)\n",
    "    return compute_master(fa1,fa1,wsp)        \n",
    "\n",
    "def compute_cross_cl(mapd1,mapd2,mask,b):\n",
    "    fa1 = nmt.NmtField(mask, (mapd1)*1,purify_e=False, purify_b=True)\n",
    "    fa2 = nmt.NmtField(mask, (mapd2)*1,purify_e=False, purify_b=True)\n",
    "    wsp = nmt.NmtWorkspace()\n",
    "    wsp.compute_coupling_matrix(fa1, fa2, b)\n",
    "    return compute_master(fa1,fa2,wsp) \n",
    "\n",
    "def plotmed(ell,label,res,color='darkblue',marker=\"D\",show=True,legend=''):\n",
    "    \"\"\"\n",
    "    Plot median and median absolute deviation of best-fits as a function of ell\n",
    "    :ell: bandpower array\n",
    "    :label: string indicating the name of the quantity\n",
    "    :color: color of the plot\n",
    "    :marker: marker of the plot\n",
    "    :show: show the plot\n",
    "    legend: legend to add to the plot\n",
    "    \"\"\"\n",
    "    ellbound=ell.shape[0]\n",
    "    name={'A':r'$A^d$','beta':r'$\\beta^d$','temp':r'$T^d$','beta_s':r'$\\beta^s$','A_s':r'$A^s$','A_sd':r'$A^{sd}$','r':r'$\\hat{r}$','X2red':r'$\\chi^2$','Aw1b':r'$\\mathcal{D}_\\ell^{A\\times\\omega_1^{\\beta}}$','Aw1t':r'$\\mathcal{D}_\\ell^{A\\times\\omega_1^{T}}$','Asw1bs':r'$\\mathcal{D}_\\ell^{A_s\\times\\omega_1^{\\beta^s}}$','w1bw1s':r'$\\mathcal{D}_\\ell^{\\omega_1^{\\beta^d}\\times\\omega_1^{\\beta^s}}$','w1sw1T':r'$\\mathcal{D}_\\ell^{\\omega_1^{T^d}\\times\\omega_1^{\\beta^s}}$','w1bw1b':r'$\\mathcal{D}_\\ell^{\\omega_1^\\beta\\times\\omega_1^\\beta}$','w1tw1t':r'$\\mathcal{D}_\\ell^{\\omega_1^T\\times\\omega_1^T}$','w1bw1t':r'$\\mathcal{D}_\\ell^{\\omega_1^\\beta\\times\\omega_1^T}$','w1bsw1bs':r'$\\mathcal{D}_\\ell^{\\omega_1^{\\beta^s}\\times\\omega_1^{\\beta^s}}$', 'Asw1b':r'$\\mathcal{D}_\\ell^{A_s\\times\\omega_1^{\\beta}}$','Asw1t':r'$\\mathcal{D}_\\ell^{A_s\\times\\omega_1^{T}}$','Adw1s':r'$\\mathcal{D}_\\ell^{A\\times\\omega_1^{\\beta^s}}$'}\n",
    "    edgecolor=\"#80AAF3\"\n",
    "    plt.errorbar(ell,np.median(res[label],axis=1)[:ellbound],yerr=st.median_abs_deviation(res[label],axis=1)[:ellbound],c=color,fmt=marker,linestyle='',label=legend)\n",
    "    plt.scatter(ell,np.median(res[label],axis=1)[:ellbound],s=175,c=color,marker=marker,edgecolor=edgecolor)\n",
    "    plt.ylabel(name[label],fontsize=20)\n",
    "    plt.xlabel(r\"$\\ell$\",fontsize=20)\n",
    "    plt.legend()\n",
    "    plt.tight_layout()\n",
    "    if show==True:\n",
    "        plt.show()\n"
   ]
  },
  {
   "cell_type": "code",
   "execution_count": null,
   "id": "a3545549-b1ad-485c-94bd-4ea637944794",
   "metadata": {
    "tags": []
   },
   "outputs": [],
   "source": [
    "#choose frequency range\n",
    "\n",
    "dusttype=12\n",
    "syncrotype=0\n",
    "instr= 'LiteBIRD'\n",
    "nside=64\n",
    "scale=10\n",
    "fsky=0.7\n",
    "Nlbin = 10\n",
    "lmax = nside*3-1\n",
    "\n",
    "if fsky==1:\n",
    "    mask = np.ones(hp.nside2npix(nside))\n",
    "else:\n",
    "    mask = hp.read_map(\"../masks/mask_fsky%s_nside%s_aposcale%s.npy\"%(fsky,nside,scale))\n",
    "\n",
    "b = nmt.bins.NmtBin(nside=nside,lmax=lmax,nlb=Nlbin)\n",
    "leff = b.get_effective_ells()\n",
    "\n",
    "if instr=='Planck':\n",
    "    freq=np.array([100,143,217,353])\n",
    "if instr=='LiteBIRD':\n",
    "    freq=np.array([ 40.,  50.,  60.,  68.,  78.,  89., 100., 119., 140., 166., 195.,235., 280., 337., 402.])\n",
    "\n",
    "sky = pysm3.Sky(nside=512, preset_strings=['d%s'%(dusttype),'s%s'%(syncrotype)])\n",
    "skyd = pysm3.Sky(nside=512, preset_strings=['d%s'%dusttype])\n",
    "skys = pysm3.Sky(nside=512, preset_strings=['s%s'%syncrotype])\n",
    "dust = skyd.components[0]\n",
    "sync= skys.components[0]\n",
    "betamap =dust.mbb_index.value\n",
    "tempmap=dust.mbb_temperature.value\n",
    "betasmap =sync.pl_index.value\n",
    "if dusttype==12:\n",
    "    nu0d=dust.freq_ref.value\n",
    "else:\n",
    "    nu0d=dust.freq_ref_P.value\n",
    "nu0s=sync.freq_ref_P.value\n",
    "skyrefd = skyd.get_emission(nu0d * u.GHz).to(u.uK_CMB, equivalencies=u.cmb_equivalencies(nu0d*u.GHz)).value\n",
    "skyrefs = skys.get_emission(nu0s * u.GHz).to(u.uK_CMB, equivalencies=u.cmb_equivalencies(nu0s*u.GHz)).value\n",
    "\n",
    "model= np.array([sky.get_emission(freq[f] * u.GHz).to(u.uK_CMB, equivalencies=u.cmb_equivalencies(freq[f]*u.GHz)).value for f in range(len(freq))])"
   ]
  },
  {
   "cell_type": "code",
   "execution_count": null,
   "id": "67a05dde-8a6b-4c09-8e76-1e57b9ee1902",
   "metadata": {},
   "outputs": [],
   "source": [
    "if dusttype==12:\n",
    "    Ampl = dust.layers.to(u.uK_CMB, equivalencies=u.cmb_equivalencies(nu0d*u.GHz)).value\n",
    "    Amplcpxd = Ampl[:,1]+1j*Ampl[:,2]"
   ]
  },
  {
   "cell_type": "code",
   "execution_count": null,
   "id": "d12894b3-83cd-4033-bc51-1a44accffb09",
   "metadata": {
    "tags": []
   },
   "outputs": [],
   "source": [
    "skyrefcpxd=skyrefd[1]+1j*skyrefd[2]\n",
    "skyrefcpxs=skyrefs[1]+1j*skyrefs[2]\n",
    "betabar= 1.54\n",
    "tempbar=20\n",
    "betasbar=-3"
   ]
  },
  {
   "cell_type": "code",
   "execution_count": null,
   "id": "4aa03e16-54ce-4267-8ff7-864306d3032c",
   "metadata": {
    "tags": []
   },
   "outputs": [],
   "source": [
    "if dusttype ==12:\n",
    "    mom1b = np.sum(Amplcpxd*(betamap-betabar),axis=0)\n",
    "    mom2b = np.sum(Amplcpxd*(betamap-betabar)**2,axis=0)\n",
    "    mom1bs = np.sum(Amplcpxd*(betasmap-betasbar),axis=0)\n",
    "    mom1t = np.sum(Amplcpxd*(tempmap-tempbar),axis=0)\n",
    "    mom2bt= np.sum(Amplcpxd*(tempmap-tempbar)*(betamap-betabar),axis=0)\n",
    "    mom1bs = skyrefcpxs*(betasmap-betasbar)\n",
    "    mom2bs = skyrefcpxs*(betasmap-betasbar)\n",
    "else:\n",
    "    mom1b = skyrefcpxd*(betamap-betabar)\n",
    "    mom2b = skyrefcpxd*(betamap-betabar)**2\n",
    "    mom1t = skyrefcpxd*(tempmap-tempbar)\n",
    "    mom2t = skyrefcpxd*(tempmap-tempbar)**2\n",
    "    mom2bt= skyrefcpxd*(tempmap-tempbar)*(betamap-betabar)\n",
    "    mom1bs = skyrefcpxs*(betasmap-betasbar)\n",
    "    mom2bs = skyrefcpxs*(betasmap-betasbar)"
   ]
  },
  {
   "cell_type": "code",
   "execution_count": null,
   "id": "356de0c3-505d-4a68-b7bf-8dac0fdb3d67",
   "metadata": {
    "tags": []
   },
   "outputs": [],
   "source": [
    "def getmom_downgr(mom):\n",
    "    momarr=np.array([np.zeros(hp.nside2npix(512)),mom.real,mom.imag])\n",
    "    momdg=sim.downgrade_map(momarr,nside_in=512,nside_out=nside)\n",
    "    return momdg\n",
    "\n",
    "def get_dl_bb_mom(map1,map2):\n",
    "    return leff*(leff+1)*compute_cross_cl(getmom_downgr(map1)[1:],getmom_downgr(map2)[1:],mask,b)[3]/2/np.pi"
   ]
  },
  {
   "cell_type": "code",
   "execution_count": null,
   "id": "0d40f78a-7bb2-41c8-868b-9f1e035fb613",
   "metadata": {
    "tags": []
   },
   "outputs": [],
   "source": [
    "hp.mollview(getmom_downgr(mom1b)[2]*mask,title=r'${\\rm Re}(\\mathcal{W}_1^\\beta)$')"
   ]
  },
  {
   "cell_type": "code",
   "execution_count": null,
   "id": "64d1f486-d5dd-404d-8cfc-8dffb832e64a",
   "metadata": {},
   "outputs": [],
   "source": [
    "hp.mollview(getmom_downgr(mom2b)[2]*mask,title=r'${\\rm Re}(\\mathcal{W}_2^\\beta)$')"
   ]
  },
  {
   "cell_type": "code",
   "execution_count": null,
   "id": "b33dfbac-48f9-4abb-b9ef-a4ad15008a4c",
   "metadata": {
    "tags": []
   },
   "outputs": [],
   "source": [
    "Ad= get_dl_bb_mom(skyrefcpxd,skyrefcpxd)\n",
    "As= get_dl_bb_mom(skyrefcpxs,skyrefcpxs)\n",
    "Asd=get_dl_bb_mom(skyrefcpxd,skyrefcpxs)\n",
    "w1bw1b = get_dl_bb_mom(mom1b,mom1b)\n",
    "Aw1b= get_dl_bb_mom(skyrefcpxd,mom1b)\n",
    "Aw1t=get_dl_bb_mom(skyrefcpxd,mom1t)\n",
    "w1bw1t=get_dl_bb_mom(mom1b,mom1t)\n",
    "w1tw1t=get_dl_bb_mom(mom1t,mom1t)\n",
    "Asw1b= get_dl_bb_mom(skyrefcpxs,mom1b)\n",
    "Asw1t= get_dl_bb_mom(skyrefcpxs,mom1t)\n",
    "Aw2b= get_dl_bb_mom(skyrefcpxd,mom2b)\n",
    "w1bw2b= get_dl_bb_mom(mom1b,mom2b)\n",
    "w2bw2b= get_dl_bb_mom(mom2b,mom2b)"
   ]
  },
  {
   "cell_type": "code",
   "execution_count": null,
   "id": "65e9e0d6-3455-4450-8ed4-6ff02b2073ed",
   "metadata": {
    "tags": []
   },
   "outputs": [],
   "source": [
    "pmetbar=1/20\n",
    "pmetmap=1/tempmap\n",
    "if dusttype==12:\n",
    "    mom1pmet = np.sum(Amplcpxd*(pmetmap-pmetbar),axis=0)\n",
    "else:\n",
    "    mom1pmet = skyrefcpxd*(pmetmap-pmetbar)    \n",
    "Aw1p=get_dl_bb_mom(skyrefcpxd,mom1pmet)\n",
    "w1bw1p=get_dl_bb_mom(mom1b,mom1pmet)\n",
    "w1pw1p=get_dl_bb_mom(mom1pmet,mom1pmet)\n",
    "Asw1p= get_dl_bb_mom(skyrefcpxs,mom1pmet)"
   ]
  },
  {
   "cell_type": "code",
   "execution_count": null,
   "id": "6c98c10c-e0a2-4c15-8b91-2914c67a3185",
   "metadata": {},
   "outputs": [],
   "source": [
    "#plt.plot(leff[:15],Ad[:15],label='AxA')\n",
    "plt.plot(leff[:15],w1bw1b[:15],label='W1bxW1b')\n",
    "plt.plot(leff[:15],Aw1b[:15],label='AxW1b')\n",
    "plt.plot(leff[:15],Aw1p[:15],label='AxW1t')\n",
    "plt.plot(leff[:15],w1bw1p[:15],label='W1bxW1t')\n",
    "plt.plot(leff[:15],w1bw1p[:15],label='W1txW1t')\n",
    "#plt.plot(leff[:15],get_dl_bb_mom(mom2b,mom2b)[:15],label='W2bxW2b')\n",
    "#plt.plot(leff[:15],get_dl_bb_mom(skyrefcpx,mom2b)[:15],label='AxW2b')\n",
    "#plt.plot(leff[:15],get_dl_bb_mom(skyrefcpx,mom2t)[:15],label='AxW2t')\n",
    "#plt.plot(leff[:15],get_dl_bb_mom(mom2b,mom2t)[:15],label='W2bxW2t')\n",
    "#plt.plot(leff[:15],get_dl_bb_mom(mom2t,mom2t)[:15],label='W2txW2t')\n",
    "#plt.plot(leff[:15],get_dl_bb_mom(mom2bt,mom2bt)[:15],label='W2btxW2bt')\n",
    "plt.legend()"
   ]
  },
  {
   "cell_type": "code",
   "execution_count": null,
   "id": "557bdb25-ce57-4b20-baa3-f3845e10f671",
   "metadata": {
    "tags": []
   },
   "outputs": [],
   "source": [
    "plt.plot(leff[:15],w1bw1b[:15]/Ad[:15],label='W1bxW1b')\n",
    "plt.plot(leff[:15],Aw1b[:15]/Ad[:15],label='AxW1b')\n",
    "plt.plot(leff[:15],Aw1p[:15]/Ad[:15],label='AxW1t')\n",
    "plt.plot(leff[:15],w1bw1p[:15]/Ad[:15],label='W1bxW1t')\n",
    "plt.plot(leff[:15],w1pw1p[:15]/Ad[:15],label='W1txW1t')\n",
    "plt.plot(leff[:15],Asw1b[:15]/np.sqrt(Ad[:15]*As[:15]),label='W1txW1t')\n",
    "plt.plot(leff[:15],Asw1p[:15]/np.sqrt(Ad[:15]*As[:15]),label='W1txW1t')\n",
    "\n",
    "#plt.plot(leff[:15],get_dl_bb_mom(mom2b,mom2b)[:15],label='W2bxW2b')\n",
    "#plt.plot(leff[:15],get_dl_bb_mom(skyrefcpx,mom2b)[:15],label='AxW2b')\n",
    "#plt.plot(leff[:15],get_dl_bb_mom(skyrefcpx,mom2t)[:15],label='AxW2t')\n",
    "#plt.plot(leff[:15],get_dl_bb_mom(mom2b,mom2t)[:15],label='W2bxW2t')\n",
    "#plt.plot(leff[:15],get_dl_bb_mom(mom2t,mom2t)[:15],label='W2txW2t')\n",
    "#plt.plot(leff[:15],get_dl_bb_mom(mom2bt,mom2bt)[:15],label='W2btxW2bt')\n",
    "plt.legend()"
   ]
  },
  {
   "cell_type": "code",
   "execution_count": null,
   "id": "208eddf7-162b-4c63-9cfd-af643bc7f0ab",
   "metadata": {
    "tags": []
   },
   "outputs": [],
   "source": [
    "from scipy.optimize import curve_fit\n",
    "\n",
    "def PL_ell(l,A,alpha):\n",
    "    l0=80\n",
    "    return A*(l/l0)**alpha\n",
    "\n",
    "def plot_pl(mom):\n",
    "    popt, pcov = curve_fit(PL_ell, leff[:15], mom[:15],maxfev=5000)\n",
    "    plt.plot(leff[:15], PL_ell(leff[:15], *popt), '--',c='red',label=popt)"
   ]
  },
  {
   "cell_type": "code",
   "execution_count": null,
   "id": "384971f7-e13c-46ba-8e02-365ab3815621",
   "metadata": {
    "tags": []
   },
   "outputs": [],
   "source": [
    "res=np.load('../Best-fits/results_d%ss%s_%s_ds_o1bt_fix1.npy'%(dusttype,syncrotype,fsky),allow_pickle=True).item()\n",
    "plt.figure(figsize=(10,8))\n",
    "plotmed(leff[:15],'A',res,color='darkblue',marker=\"D\",show=False,legend='fit')\n",
    "plt.plot(leff[:15],Ad[:15],c='k',linestyle='--',label='analytical')\n",
    "plot_pl(Ad)\n",
    "plt.loglog()\n",
    "plt.legend()\n",
    "plt.show()"
   ]
  },
  {
   "cell_type": "code",
   "execution_count": null,
   "id": "c7dc7adf-3221-4a01-8790-83cf9b747f4a",
   "metadata": {
    "tags": []
   },
   "outputs": [],
   "source": [
    "plt.figure(figsize=(10,8))\n",
    "plotmed(leff[:15],'A_s',res,color='darkblue',marker=\"D\",show=False,legend='fit')\n",
    "plt.plot(leff[:15],As[:15],c='k',linestyle='--',label='analytical')\n",
    "plot_pl(As)\n",
    "#plt.loglog()\n",
    "plt.legend()\n",
    "plt.show()"
   ]
  },
  {
   "cell_type": "code",
   "execution_count": null,
   "id": "5d688c6e-91ed-4d17-975d-d090cfde2dd4",
   "metadata": {
    "tags": []
   },
   "outputs": [],
   "source": [
    "plt.figure(figsize=(10,8))\n",
    "plotmed(leff[:15],'A_sd',res,color='darkblue',marker=\"D\",show=False,legend='fit')\n",
    "plt.plot(leff[:15],Asd[:15]/np.sqrt(abs(Ad[:15]*As[:15])),c='k',linestyle='--',label='analytical')\n",
    "#plt.loglog()\n",
    "plt.legend()\n",
    "plt.show()"
   ]
  },
  {
   "cell_type": "code",
   "execution_count": null,
   "id": "8291e166-1aa3-4ec0-b182-a0ad53fdd339",
   "metadata": {
    "tags": []
   },
   "outputs": [],
   "source": [
    "plt.figure(figsize=(10,8))\n",
    "plotmed(leff[:15],'w1bw1b',res,color='darkblue',marker=\"D\",show=False,legend='fit')\n",
    "plt.plot(leff[:15],w1bw1b[:15],c='k',linestyle='--',label='analytical')\n",
    "plot_pl(w1bw1b)\n",
    "plt.legend()\n",
    "plt.show()"
   ]
  },
  {
   "cell_type": "code",
   "execution_count": null,
   "id": "d390d979-cc75-4a6a-b3ee-5554c36ef877",
   "metadata": {
    "tags": []
   },
   "outputs": [],
   "source": [
    "plt.figure(figsize=(10,8))\n",
    "plotmed(leff[:15],'w1tw1t',res,color='darkblue',marker=\"D\",show=False,legend='fit')\n",
    "plt.plot(leff[:15], w1pw1p[:15],c='k',linestyle='--',label='analytical')\n",
    "plot_pl(w1pw1p)\n",
    "plt.legend()\n",
    "plt.show()"
   ]
  },
  {
   "cell_type": "code",
   "execution_count": null,
   "id": "393810ec-c7bf-4f97-a241-0ffb1fd0c0d4",
   "metadata": {
    "tags": []
   },
   "outputs": [],
   "source": [
    "plt.figure(figsize=(10,8))\n",
    "plotmed(leff[:15],'w1bw1t',res,color='darkblue',marker=\"D\",show=False,legend='fit')\n",
    "plt.plot(leff[:15],w1bw1p[:15],c='k',linestyle='--',label='analytical')\n",
    "plot_pl(w1bw1p)\n",
    "plt.legend()\n",
    "plt.show()"
   ]
  },
  {
   "cell_type": "code",
   "execution_count": null,
   "id": "3b0951fd-47c1-442c-ad7e-6994e2c5f6d9",
   "metadata": {
    "tags": []
   },
   "outputs": [],
   "source": [
    "plt.figure(figsize=(10,8))\n",
    "plotmed(leff[:15],'Aw1t',res,color='darkblue',marker=\"D\",show=False,legend='fit')\n",
    "plot_pl(Aw1p)\n",
    "plt.plot(leff[:15],Aw1p[:15],c='k',linestyle='--',label='analytical')\n",
    "plt.legend()\n",
    "plt.show()"
   ]
  },
  {
   "cell_type": "code",
   "execution_count": null,
   "id": "056ac4d0-e65f-4b1a-98ca-b77b16138b75",
   "metadata": {
    "tags": []
   },
   "outputs": [],
   "source": [
    "plt.figure(figsize=(10,8))\n",
    "plotmed(leff[:15],'Aw1b',res,color='darkblue',marker=\"D\",show=False,legend='fit')\n",
    "plot_pl(Aw1b)\n",
    "plt.plot(leff[:15],Aw1b[:15],c='k',linestyle='--',label='analytical')\n",
    "plt.legend()\n",
    "plt.show()"
   ]
  },
  {
   "cell_type": "code",
   "execution_count": null,
   "id": "feb1f444-dcbe-4ea0-8750-39e510694f43",
   "metadata": {
    "tags": []
   },
   "outputs": [],
   "source": [
    "plt.figure(figsize=(10,8))\n",
    "plotmed(leff[:15],'Asw1b',res,color='darkblue',marker=\"D\",show=False,legend='fit')\n",
    "plot_pl(Asw1b)\n",
    "plt.plot(leff[:15],Asw1b[:15],c='k',linestyle='--',label='analytical')\n",
    "plt.legend()\n",
    "plt.show()"
   ]
  },
  {
   "cell_type": "code",
   "execution_count": null,
   "id": "5c44bbd4-79da-4dcc-9325-b50ead504c28",
   "metadata": {
    "tags": []
   },
   "outputs": [],
   "source": [
    "plt.figure(figsize=(10,8))\n",
    "plotmed(leff[:15],'Asw1t',res,color='darkblue',marker=\"D\",show=False,legend='fit')\n",
    "plot_pl(Asw1p)\n",
    "plt.plot(leff[:15],Asw1p[:15],c='k',linestyle='--',label='analytical')\n",
    "plt.legend()\n",
    "plt.show()"
   ]
  },
  {
   "cell_type": "code",
   "execution_count": null,
   "id": "bb954683-e24c-491d-b56d-3e49d090610f",
   "metadata": {
    "tags": []
   },
   "outputs": [],
   "source": [
    "plt.figure(figsize=(10,8))\n",
    "plt.plot(leff[:15],Aw2b[:15],c='k',linestyle='--',label='analytical')\n",
    "plt.legend()\n",
    "plt.show()"
   ]
  },
  {
   "cell_type": "code",
   "execution_count": null,
   "id": "2eb4ea63-f0e7-4202-9ed1-b5fb8f6fb0c1",
   "metadata": {
    "tags": []
   },
   "outputs": [],
   "source": [
    "plt.figure(figsize=(10,8))\n",
    "plt.plot(leff[:15],w1bw2b[:15],c='k',linestyle='--',label='analytical')\n",
    "plt.legend()\n",
    "plt.show()"
   ]
  },
  {
   "cell_type": "code",
   "execution_count": null,
   "id": "336e045b-f146-4e4d-b4d5-962e17fb75cb",
   "metadata": {
    "tags": []
   },
   "outputs": [],
   "source": [
    "plt.figure(figsize=(10,8))\n",
    "plt.plot(leff[:15],w2bw2b[:15],c='k',linestyle='--',label='analytical')\n",
    "plt.legend()\n",
    "plt.show()"
   ]
  },
  {
   "cell_type": "code",
   "execution_count": null,
   "id": "66992d9d-f8c2-4e27-9233-2fa20e6ad758",
   "metadata": {
    "tags": []
   },
   "outputs": [],
   "source": [
    "Nell=len(leff[:15])\n",
    "p=[Ad[:Nell], betabar*np.ones(Nell),tempbar*np.ones(Nell),As[:Nell],betasbar*np.ones(Nell),Asd[:Nell]/np.sqrt(As[:Nell]*Ad[:Nell]),Aw1b[:Nell],w1bw1b[:Nell],Aw1t[:Nell],w1bw1t[:Nell],w1tw1t[:Nell],Asw1b[:Nell],Asw1t[:Nell], Aw2b[:Nell], w1bw2b[:Nell], w2bw2b[:Nell]]\n",
    "\n",
    "def modelmomo1(nu,p):\n",
    "    nu_i=nu\n",
    "    nu_j=nu\n",
    "    nuref=353\n",
    "    nurefs=23\n",
    "    ampl = func.mbb_uK(nu_i,p[1],p[2])*func.mbb_uK(nu_j,p[1],p[2])\n",
    "    sync= p[3]*func.PL_uK(nu_i,p[4])*func.PL_uK(nu_j,p[4])\n",
    "    normcorr= np.sqrt(abs(p[0]*p[3]))\n",
    "    crossdustsync= p[5]*normcorr*(func.mbb_uK(nu_i,p[1],p[2])*func.PL_uK(nu_j,p[4])+ func.PL_uK(nu_i,p[4])*func.mbb_uK(nu_j,p[1],p[2]))#/(func.PL_uK(nurefs,p[4])*func.mbb_uK(nuref,p[1],p[2]))\n",
    "    lognui = np.log(nu_i/nuref)\n",
    "    lognuj = np.log(nu_j/nuref)\n",
    "    lognuis = np.log(nu_i/nurefs)\n",
    "    lognujs = np.log(nu_j/nurefs)\n",
    "    dx0 = func.dmbbT(nuref,p[2])\n",
    "    dxi = func.dmbbT(nu_i,p[2])\n",
    "    dxj = func.dmbbT(nu_j,p[2])\n",
    "    temp = ampl * (p[0]+ (lognui+lognuj) * p[6]+ lognui*lognuj * p[7])\n",
    "    temp2 = ampl*((dxi+dxj-2*dx0)*p[8]+(lognuj*(dxi-dx0)+lognui*(dxj-dx0))*p[9]+(dxi-dx0)*(dxj-dx0)*p[10])\n",
    "    crossdustsync2 = p[11]*(func.mbb_uK(nu_i,p[1],p[2],nu0=nuref)*lognui*func.PL_uK(nu_j,p[4],nu0=nurefs)+ func.PL_uK(nu_i,p[4],nu0=nurefs)*func.mbb_uK(nu_j,p[1],p[2],nu0=nuref)*lognuj)\n",
    "    crossdustsync3 = p[12]*(func.mbb_uK(nu_i,p[1],p[2],nu0=nuref)*(dxi-dx0)*func.PL_uK(nu_j,p[4],nu0=nurefs)+ func.PL_uK(nu_i,p[4],nu0=nurefs)*func.mbb_uK(nu_j,p[1],p[2],nu0=nuref)*(dxj-dx0))\n",
    "    model = temp + temp2 + sync + crossdustsync + crossdustsync2 + crossdustsync3\n",
    "    return model\n",
    "\n",
    "def modelmomo2(nu,p):\n",
    "    nu_i=nu\n",
    "    nu_j=nu\n",
    "    nuref=353\n",
    "    nurefs=23\n",
    "    ampl = func.mbb_uK(nu_i,p[1],p[2])*func.mbb_uK(nu_j,p[1],p[2])\n",
    "    sync= p[3]*func.PL_uK(nu_i,p[4])*func.PL_uK(nu_j,p[4])\n",
    "    normcorr= np.sqrt(abs(p[0]*p[3]))\n",
    "    crossdustsync= p[5]*normcorr*(func.mbb_uK(nu_i,p[1],p[2])*func.PL_uK(nu_j,p[4])+ func.PL_uK(nu_i,p[4])*func.mbb_uK(nu_j,p[1],p[2]))#/(func.PL_uK(nurefs,p[4])*func.mbb_uK(nuref,p[1],p[2]))\n",
    "    lognui = np.log(nu_i/nuref)\n",
    "    lognuj = np.log(nu_j/nuref)\n",
    "    lognuis = np.log(nu_i/nurefs)\n",
    "    lognujs = np.log(nu_j/nurefs)\n",
    "    dx0 = func.dmbbT(nuref,p[2])\n",
    "    dxi = func.dmbbT(nu_i,p[2])\n",
    "    dxj = func.dmbbT(nu_j,p[2])\n",
    "    temp = ampl * (p[0]+ (lognui+lognuj) * p[6]+ lognui*lognuj * p[7])\n",
    "    temp2 = ampl*((dxi+dxj-2*dx0)*p[8]+(lognuj*(dxi-dx0)+lognui*(dxj-dx0))*p[9]+(dxi-dx0)*(dxj-dx0)*p[10])\n",
    "    crossdustsync2 = p[11]*(func.mbb_uK(nu_i,p[1],p[2],nu0=nuref)*lognui*func.PL_uK(nu_j,p[4],nu0=nurefs)+ func.PL_uK(nu_i,p[4],nu0=nurefs)*func.mbb_uK(nu_j,p[1],p[2],nu0=nuref)*lognuj)\n",
    "    crossdustsync3 = p[12]*(func.mbb_uK(nu_i,p[1],p[2],nu0=nuref)*(dxi-dx0)*func.PL_uK(nu_j,p[4],nu0=nurefs)+ func.PL_uK(nu_i,p[4],nu0=nurefs)*func.mbb_uK(nu_j,p[1],p[2],nu0=nuref)*(dxj-dx0))\n",
    "    temp3 = ampl * ((lognui**2+lognuj**2)*p[14]/2+ (lognui*lognuj**2 +lognui**2*lognuj) * p[14]/2+ (lognui*lognuj)**2* p[15]/4)\n",
    "    model = temp + temp2 + temp3+ sync + crossdustsync + crossdustsync2 + crossdustsync3\n",
    "    return model\n",
    "\n",
    "def modelmomo1beta(nu,p):\n",
    "    nu_i=nu\n",
    "    nu_j=nu\n",
    "    nuref=353\n",
    "    nurefs=23\n",
    "    ampl = func.mbb_uK(nu_i,p[1],p[2])*func.mbb_uK(nu_j,p[1],p[2])\n",
    "    sync= p[3]*func.PL_uK(nu_i,p[4])*func.PL_uK(nu_j,p[4])\n",
    "    normcorr= np.sqrt(abs(p[0]*p[3]))\n",
    "    crossdustsync= p[5]*normcorr*(func.mbb_uK(nu_i,p[1],p[2])*func.PL_uK(nu_j,p[4])+ func.PL_uK(nu_i,p[4])*func.mbb_uK(nu_j,p[1],p[2]))#/(func.PL_uK(nurefs,p[4])*func.mbb_uK(nuref,p[1],p[2]))\n",
    "    lognui = np.log(nu_i/nuref)\n",
    "    lognuj = np.log(nu_j/nuref)\n",
    "    lognuis = np.log(nu_i/nurefs)\n",
    "    lognujs = np.log(nu_j/nurefs)\n",
    "    temp = ampl * (p[0]+ (lognui+lognuj) * p[6]+ lognui*lognuj * p[7])\n",
    "    crossdustsync2 = p[11]*(func.mbb_uK(nu_i,p[1],p[2],nu0=nuref)*lognui*func.PL_uK(nu_j,p[4],nu0=nurefs)+ func.PL_uK(nu_i,p[4],nu0=nurefs)*func.mbb_uK(nu_j,p[1],p[2],nu0=nuref)*lognuj)\n",
    "    model = temp  + sync + crossdustsync + crossdustsync2 \n",
    "    return model\n",
    "\n",
    "def modelmomo1temp(nu,p):\n",
    "    nu_i=nu\n",
    "    nu_j=nu\n",
    "    nuref=353\n",
    "    nurefs=23\n",
    "    ampl = func.mbb_uK(nu_i,p[1],p[2])*func.mbb_uK(nu_j,p[1],p[2])\n",
    "    sync= p[3]*func.PL_uK(nu_i,p[4])*func.PL_uK(nu_j,p[4])\n",
    "    normcorr= np.sqrt(abs(p[0]*p[3]))\n",
    "    crossdustsync= p[5]*normcorr*(func.mbb_uK(nu_i,p[1],p[2])*func.PL_uK(nu_j,p[4])+ func.PL_uK(nu_i,p[4])*func.mbb_uK(nu_j,p[1],p[2]))#/(func.PL_uK(nurefs,p[4])*func.mbb_uK(nuref,p[1],p[2]))\n",
    "    dx0 = func.dmbbT(nuref,p[2])\n",
    "    dxi = func.dmbbT(nu_i,p[2])\n",
    "    dxj = func.dmbbT(nu_j,p[2])\n",
    "    temp = ampl * p[0]\n",
    "    temp2 = ampl*((dxi+dxj-2*dx0)*p[8]+(dxi-dx0)*(dxj-dx0)*p[10])\n",
    "    crossdustsync3 = p[12]*(func.mbb_uK(nu_i,p[1],p[2],nu0=nuref)*(dxi-dx0)*func.PL_uK(nu_j,p[4],nu0=nurefs)+ func.PL_uK(nu_i,p[4],nu0=nurefs)*func.mbb_uK(nu_j,p[1],p[2],nu0=nuref)*(dxj-dx0))\n",
    "    model = temp + temp2 + sync + crossdustsync + crossdustsync3\n",
    "    return model\n",
    "\n",
    "def modelmbb(nu,p):\n",
    "    nu_i=nu\n",
    "    nu_j=nu\n",
    "    nuref=353\n",
    "    nurefs=23\n",
    "    ampl = p[0]*func.mbb_uK(nu_i,p[1],p[2])*func.mbb_uK(nu_j,p[1],p[2])\n",
    "    sync= p[3]*func.PL_uK(nu_i,p[4])*func.PL_uK(nu_j,p[4])\n",
    "    normcorr= np.sqrt(abs(p[0]*p[3]))\n",
    "    crossdustsync= p[5]*normcorr*(func.mbb_uK(nu_i,p[1],p[2])*func.PL_uK(nu_j,p[4])+ func.PL_uK(nu_i,p[4])*func.mbb_uK(nu_j,p[1],p[2]))/(func.PL_uK(nurefs,p[4])*func.mbb_uK(nuref,p[1],p[2]))\n",
    "    model = ampl + sync + crossdustsync\n",
    "    return model"
   ]
  },
  {
   "cell_type": "code",
   "execution_count": null,
   "id": "b96258ed-132e-494f-8b90-8d2ac77c3666",
   "metadata": {},
   "outputs": [],
   "source": [
    "f=6\n",
    "modelf= np.array([sky.get_emission(freq[f] * u.GHz).to(u.uK_CMB, equivalencies=u.cmb_equivalencies(freq[f]*u.GHz)).value for f in range(len(freq))])\n",
    "modelBB= get_dl_bb_mom(modelf[f,1]+1j*modelf[f,2],modelf[f,1]+1j*modelf[f,2])[:15]"
   ]
  },
  {
   "cell_type": "code",
   "execution_count": null,
   "id": "2ac234fb-9874-4ecd-aea4-72e576b2ac6b",
   "metadata": {
    "tags": []
   },
   "outputs": [],
   "source": [
    "plt.figure(figsize=(15,10))\n",
    "plt.plot(leff[:Nell],modelBB,label='signal')\n",
    "plt.plot(leff[:Nell],modelmbb(100,p),label='mbb')\n",
    "plt.plot(leff[:Nell],modelmomo1beta(100,p),label='o1beta')\n",
    "plt.plot(leff[:Nell],modelmomo1temp(100,p),label='o1temp')\n",
    "plt.plot(leff[:Nell],modelmomo1(100,p),label='o1-bt')\n",
    "plt.plot(leff[:Nell],modelmomo2(100,p),label='o2')\n",
    "plt.loglog()\n",
    "plt.legend()"
   ]
  },
  {
   "cell_type": "code",
   "execution_count": null,
   "id": "abc2c010-26d7-4efd-8427-2cd2a3378711",
   "metadata": {},
   "outputs": [],
   "source": [
    "plt.figure(figsize=(15,10))\n",
    "plt.plot(leff[:Nell],abs(modelBB-modelmbb(100,p))/modelBB,label='mbb')\n",
    "plt.plot(leff[:Nell],abs(modelBB-modelmomo1beta(100,p))/modelBB,label='o1beta')\n",
    "plt.plot(leff[:Nell],abs(modelBB-modelmomo1temp(100,p))/modelBB,label='o1temp')\n",
    "plt.plot(leff[:Nell],abs(modelBB-modelmomo1(100,p))/modelBB,label='o1-bt')\n",
    "plt.plot(leff[:Nell],abs(modelBB-modelmomo2(100,p))/modelBB,label='o2')\n",
    "plt.loglog()\n",
    "plt.legend()"
   ]
  },
  {
   "cell_type": "code",
   "execution_count": null,
   "id": "149e1c32-881b-4914-b282-1201db765e83",
   "metadata": {
    "tags": []
   },
   "outputs": [],
   "source": [
    "from astropy import constants as const\n",
    "p2=[Ad[:Nell], betabar*np.ones(Nell),pmetbar*np.ones(Nell),As[:Nell],betasbar*np.ones(Nell),Asd[:Nell]/np.sqrt(As[:Nell]*Ad[:Nell]),Aw1b[:Nell],w1bw1b[:Nell],Aw1p[:Nell],w1bw1p[:Nell],w1pw1p[:Nell],Asw1b[:Nell],Asw1p[:Nell], Aw2b[:Nell], w1bw2b[:Nell], w2bw2b[:Nell]]\n"
   ]
  },
  {
   "cell_type": "code",
   "execution_count": null,
   "id": "0104367f-2a0e-41b3-bc8f-0b914c9904d1",
   "metadata": {
    "tags": []
   },
   "outputs": [],
   "source": [
    "plt.figure(figsize=(10,8))\n",
    "plt.plot(leff[:15],Aw1p[:15],c='k',linestyle='--',label='analytical')\n",
    "plt.legend()\n",
    "plt.show()"
   ]
  },
  {
   "cell_type": "code",
   "execution_count": null,
   "id": "9ad5a7f4-dfc8-4abd-a4ee-a584a5fe067a",
   "metadata": {
    "tags": []
   },
   "outputs": [],
   "source": [
    "plt.figure(figsize=(10,8))\n",
    "plt.plot(leff[:15],w1pw1p[:15],c='k',linestyle='--',label='analytical')\n",
    "plt.legend()\n",
    "plt.show()"
   ]
  },
  {
   "cell_type": "code",
   "execution_count": null,
   "id": "1b57ecd4-04fd-4ae5-8478-6379f56f4363",
   "metadata": {
    "tags": []
   },
   "outputs": [],
   "source": [
    "plt.figure(figsize=(10,8))\n",
    "plt.plot(leff[:15],Asw1p[:15],c='k',linestyle='--',label='analytical')\n",
    "plt.legend()\n",
    "plt.show()"
   ]
  },
  {
   "cell_type": "code",
   "execution_count": null,
   "id": "04167043-7650-41bc-9291-3b91d1bca7de",
   "metadata": {},
   "outputs": [],
   "source": [
    "\n",
    "def dmbbb_T(nu,b_T):\n",
    "    x = const.h.value*nu*1.e9/const.k_B.value\n",
    "    return -x*np.exp(x*b_T)/np.expm1(x*b_T)\n",
    "\n",
    "def modelmomo1pmet(nu,p):\n",
    "    nu_i=nu\n",
    "    nu_j=nu\n",
    "    nuref=353\n",
    "    nurefs=23\n",
    "    ampl = func.mbb_uK(nu_i,p[1],1/p[2])*func.mbb_uK(nu_j,p[1],1/p[2])\n",
    "    sync= p[3]*func.PL_uK(nu_i,p[4])*func.PL_uK(nu_j,p[4])\n",
    "    normcorr= np.sqrt(abs(p[0]*p[3]))\n",
    "    crossdustsync= p[5]*normcorr*(func.mbb_uK(nu_i,p[1],1/p[2])*func.PL_uK(nu_j,p[4])+ func.PL_uK(nu_i,p[4])*func.mbb_uK(nu_j,p[1],1/p[2]))#/(func.PL_uK(nurefs,p[4])*func.mbb_uK(nuref,p[1],p[2]))\n",
    "    dx0 = dmbbb_T(nuref,p[2])\n",
    "    dxi = dmbbb_T(nu_i,p[2])\n",
    "    dxj = dmbbb_T(nu_j,p[2])\n",
    "    temp = ampl * p[0]\n",
    "    temp2 = ampl*((dxi+dxj-2*dx0)*p[8]+(dxi-dx0)*(dxj-dx0)*p[10])\n",
    "    crossdustsync3 = p[12]*(func.mbb_uK(nu_i,p[1],1/p[2],nu0=nuref)*(dxi-dx0)*func.PL_uK(nu_j,p[4],nu0=nurefs)+ func.PL_uK(nu_i,p[4],nu0=nurefs)*func.mbb_uK(nu_j,p[1],1/p[2],nu0=nuref)*(dxj-dx0))\n",
    "    model = temp + temp2 + sync + crossdustsync + crossdustsync3\n",
    "    return model\n",
    "\n",
    "def modelmomo1pmetfull(nu,p):\n",
    "    nu_i=nu\n",
    "    nu_j=nu\n",
    "    nuref=353\n",
    "    nurefs=23\n",
    "    ampl = func.mbb_uK(nu_i,p[1],1/p[2])*func.mbb_uK(nu_j,p[1],1/p[2])\n",
    "    sync= p[3]*func.PL_uK(nu_i,p[4])*func.PL_uK(nu_j,p[4])\n",
    "    normcorr= np.sqrt(abs(p[0]*p[3]))\n",
    "    crossdustsync= p[5]*normcorr*(func.mbb_uK(nu_i,p[1],1/p[2])*func.PL_uK(nu_j,p[4])+ func.PL_uK(nu_i,p[4])*func.mbb_uK(nu_j,p[1],1/p[2]))#/(func.PL_uK(nurefs,p[4])*func.mbb_uK(nuref,p[1],p[2]))\n",
    "    lognui = np.log(nu_i/nuref)\n",
    "    lognuj = np.log(nu_j/nuref)\n",
    "    lognuis = np.log(nu_i/nurefs)\n",
    "    lognujs = np.log(nu_j/nurefs)\n",
    "    dx0 = dmbbb_T(nuref,p[2])\n",
    "    dxi = dmbbb_T(nu_i,p[2])\n",
    "    dxj = dmbbb_T(nu_j,p[2])\n",
    "    temp = ampl * p[0]\n",
    "    temp = ampl * (p[0]+ (lognui+lognuj) * p[6]+ lognui*lognuj * p[7])\n",
    "    temp2= ampl*((dxi+dxj-2*dx0)*p[8]+(lognuj*(dxi-dx0)+lognui*(dxj-dx0))*p[9]+(dxi-dx0)*(dxj-dx0)*p[10])\n",
    "    crossdustsync2 = p[11]*(func.mbb_uK(nu_i,p[1],1/p[2],nu0=nuref)*lognui*func.PL_uK(nu_j,p[4],nu0=nurefs)+ func.PL_uK(nu_i,p[4],nu0=nurefs)*func.mbb_uK(nu_j,p[1],1/p[2],nu0=nuref)*lognuj)\n",
    "    crossdustsync3 = p[12]*(func.mbb_uK(nu_i,p[1],1/p[2],nu0=nuref)*(dxi-dx0)*func.PL_uK(nu_j,p[4],nu0=nurefs)+ func.PL_uK(nu_i,p[4],nu0=nurefs)*func.mbb_uK(nu_j,p[1],1/p[2],nu0=nuref)*(dxj-dx0))\n",
    "    model = temp + temp2 + sync + crossdustsync + crossdustsync2 + crossdustsync3\n",
    "    return model"
   ]
  },
  {
   "cell_type": "code",
   "execution_count": null,
   "id": "970eef56-14f4-47cf-8666-d528e28e1212",
   "metadata": {},
   "outputs": [],
   "source": [
    "plt.figure(figsize=(15,10))\n",
    "plt.plot(leff[:Nell],abs(modelBB-modelmbb(100,p))/modelBB,label='mbb')\n",
    "plt.plot(leff[:Nell],abs(modelBB-modelmomo1beta(100,p))/modelBB,label='o1beta')\n",
    "plt.plot(leff[:Nell],abs(modelBB-modelmomo1temp(100,p))/modelBB,label='o1temp')\n",
    "plt.plot(leff[:Nell],abs(modelBB-modelmomo1pmet(100,p2))/modelBB,label='o1pmet')\n",
    "plt.plot(leff[:Nell],abs(modelBB-modelmomo1pmetfull(100,p2))/modelBB,label='o1pmet_full')\n",
    "plt.plot(leff[:Nell],abs(modelBB-modelmomo1(100,p))/modelBB,label='o1-bt')\n",
    "plt.plot(leff[:Nell],abs(modelBB-modelmomo2(100,p))/modelBB,label='o2')\n",
    "plt.loglog()\n",
    "plt.legend()"
   ]
  },
  {
   "cell_type": "code",
   "execution_count": null,
   "id": "5ba79728-6283-49ef-9940-0760acccee6b",
   "metadata": {},
   "outputs": [],
   "source": []
  },
  {
   "cell_type": "code",
   "execution_count": null,
   "id": "fa39675e-2dd3-47ec-a075-05fbe1d94e31",
   "metadata": {},
   "outputs": [],
   "source": []
  },
  {
   "cell_type": "code",
   "execution_count": null,
   "id": "2b76b5e5-ffd7-4370-aaa9-82b4683618e3",
   "metadata": {},
   "outputs": [],
   "source": []
  },
  {
   "cell_type": "code",
   "execution_count": null,
   "id": "6385eca2-dcc0-4f6f-8019-f4a1baaef9d8",
   "metadata": {},
   "outputs": [],
   "source": []
  }
 ],
 "metadata": {
  "kernelspec": {
   "display_name": "myenv",
   "language": "python",
   "name": "myenv"
  },
  "language_info": {
   "codemirror_mode": {
    "name": "ipython",
    "version": 3
   },
   "file_extension": ".py",
   "mimetype": "text/x-python",
   "name": "python",
   "nbconvert_exporter": "python",
   "pygments_lexer": "ipython3",
   "version": "3.8.13"
  }
 },
 "nbformat": 4,
 "nbformat_minor": 5
}
