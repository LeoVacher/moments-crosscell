{
 "cells": [
  {
   "cell_type": "code",
   "execution_count": 13,
   "id": "f9b02766",
   "metadata": {
    "tags": []
   },
   "outputs": [],
   "source": [
    "import numpy as np\n",
    "import matplotlib.pyplot as plt\n",
    "import healpy as hp\n",
    "import pandas as pd\n",
    "import pymaster as nmt\n",
    "import scipy.linalg as LA\n",
    "plt.rcParams['font.family'] = 'sans-serif'  "
   ]
  },
  {
   "cell_type": "code",
   "execution_count": 14,
   "id": "99921b6e",
   "metadata": {
    "tags": []
   },
   "outputs": [],
   "source": [
    "#import all\n",
    "import sys\n",
    "sys.path.append(\"../lib\")\n",
    "from tqdm import tqdm\n",
    "import pysm_common as psm\n",
    "\n",
    "import numpy as np\n",
    "import healpy as hp\n",
    "import pymaster as nmt \n",
    "import pysm3\n",
    "import time\n",
    "from mpfit import mpfit\n",
    "import mpfitlib as mpl\n",
    "import scipy\n",
    "#from Nearest_Positive_Definite import *\n",
    "from matplotlib.backends.backend_pdf import PdfPages\n",
    "import matplotlib.patheffects as path_effects\n",
    "import scipy.stats as st\n",
    "import basicfunc as func\n",
    "import analys_lib as an\n",
    "import simu_lib as sim\n",
    "import pysm3.units as u\n",
    "\n",
    "#sim params\n",
    "\n",
    "r = 0\n",
    "nside = 32\n",
    "Npix = hp.nside2npix(nside)\n",
    "N= 4000\n",
    "lmax = nside*2-1\n",
    "#lmax=850\n",
    "scale = 10\n",
    "Nlbin = 10\n",
    "fsky = 1\n",
    "dusttype = 0\n",
    "syncrotype = 0\n",
    "kw = ''\n",
    "\n",
    "\n",
    "# instr param\n",
    "\n",
    "ifreq=[0,9,10,21]\n",
    "instr_name='litebird_full'\n",
    "instr =  np.load(\"../lib/instr_dict/%s.npy\"%instr_name,allow_pickle=True).item()\n",
    "freq= instr['frequencies']\n",
    "sens_P= instr['sens_P']\n",
    "freq=freq[ifreq]\n",
    "sens_P=sens_P[ifreq]\n",
    "sigpix= sens_P/(np.sqrt((4*np.pi)/Npix*(60*180/np.pi)**2))\n",
    "b = nmt.bins.NmtBin(nside=nside,lmax=lmax,nlb=Nlbin)\n",
    "leff = b.get_effective_ells()\n",
    "N_freqs =len(freq)\n",
    "Ncross=int(N_freqs*(N_freqs+1)/2)\n",
    "sigpix= [sigpix[i]*psm.convert_units('uK_CMB','uK_RJ',freq[i]) for i in range(N_freqs)]\n",
    "\n",
    "nucross = []\n",
    "for i in range(0,N_freqs):\n",
    "    for j in range(i,N_freqs):\n",
    "        nucross.append(np.sqrt(freq[i]*freq[j]))\n",
    "nucross = np.array(nucross)\n",
    "\n",
    "\n",
    "#cmb\n",
    "CLcmb_or=hp.read_cl('../CLsimus/Cls_Planck2018_r0.fits') #TT EE BB TE\n",
    "DL_lens = b.bin_cell(CLcmb_or[2,2:lmax+3])\n",
    "DLtp=[]\n",
    "for i in range(0,N_freqs):\n",
    "    for j in range(i,N_freqs):\n",
    "        DLtp.append(DL_lens*psm.convert_units('uK_CMB','uK_RJ',freq[i])*psm.convert_units('uK_CMB','uK_RJ',freq[j]))\n",
    "DL_lens= np.array(DLtp)\n",
    "#mask\n",
    "if fsky==1:\n",
    "    mask =  np.ones(Npix)\n",
    "else:\n",
    "    mask = hp.read_map(\"../masks/mask_fsky%s_nside%s_aposcale%s.npy\"%(fsky,nside,scale))\n",
    "\n",
    "#call foreground sky\n",
    "if dusttype==None and syncrotype==None:\n",
    "    mapfg=np.zeros((N_freqs,2,Npix))\n",
    "else:\n",
    "    if dusttype==None:\n",
    "        sky = pysm3.Sky(nside=512, preset_strings=['s%s'%syncrotype])#,'s%s'%synctype])\n",
    "    if syncrotype==None:\n",
    "        sky = pysm3.Sky(nside=512, preset_strings=['d%s'%dusttype])#,'s%s'%synctype])\n",
    "    if syncrotype!=None and dusttype!=None:\n",
    "        sky = pysm3.Sky(nside=512, preset_strings=['d%s'%dusttype,'s%s'%syncrotype])\n",
    "    mapfg= np.array([sim.downgrade_map(sky.get_emission(freq[f] * u.GHz).to(u.uK_RJ, equivalencies=u.cmb_equivalencies(freq[f]*u.GHz)),nside_in=512,nside_out=nside) for f in range(len(freq))])\n",
    "    mapfg=mapfg[:,1:]\n"
   ]
  },
  {
   "cell_type": "code",
   "execution_count": 15,
   "id": "1349c8e2-ad9f-4a4f-b50c-f78bac08e85c",
   "metadata": {
    "tags": []
   },
   "outputs": [
    {
     "name": "stderr",
     "output_type": "stream",
     "text": [
      "100%|██████████| 4000/4000 [00:38<00:00, 103.73it/s]\n"
     ]
    }
   ],
   "source": [
    "# create N sims\n",
    "noisemaps= np.zeros((N,3,N_freqs,2,Npix))\n",
    "mapcmb = np.zeros((N,N_freqs,2,Npix))\n",
    "\n",
    "for k in tqdm(range(0,N)):\n",
    "    for p in range(3):\n",
    "        for i in range(N_freqs):\n",
    "            noisemaps[k,p,i,0] =np.random.normal(0,sigpix[i],size=Npix)\n",
    "            noisemaps[k,p,i,1] =np.random.normal(0,sigpix[i],size=Npix)\n",
    "    \n",
    "    mapcmb0= hp.synfast(CLcmb_or,nside,pixwin=False,new=True)\n",
    "    mapcmb1 = np.array([mapcmb0*psm.convert_units('uK_CMB','uK_RJ',freq[i]) for i in range(N_freqs)])\n",
    "    mapcmb[k] = mapcmb1[:,1:]\n"
   ]
  },
  {
   "cell_type": "code",
   "execution_count": 16,
   "id": "38b2dbda",
   "metadata": {
    "tags": []
   },
   "outputs": [
    {
     "name": "stderr",
     "output_type": "stream",
     "text": [
      "100%|██████████| 4000/4000 [21:27<00:00,  3.11it/s]\n"
     ]
    }
   ],
   "source": [
    "#workspace\n",
    "wsp_dc=[]\n",
    "for i in range(0,N_freqs): \n",
    "    for j in range(i,N_freqs):\n",
    "        w_dc = nmt.NmtWorkspace()\n",
    "        if i != j :\n",
    "            w_dc.compute_coupling_matrix(nmt.NmtField(mask, 1*mapfg[i],purify_e=False, purify_b=True), nmt.NmtField(mask,1*mapfg[j],purify_e=False, purify_b=True), b)\n",
    "        if i==j :\n",
    "            w_dc.compute_coupling_matrix(nmt.NmtField(mask, 1*mapfg[i],purify_e=False, purify_b=True), nmt.NmtField(mask, 1*mapfg[j],purify_e=False, purify_b=True), b)\n",
    "        wsp_dc.append(w_dc)\n",
    " \n",
    "wsp_dc=np.array(wsp_dc)\n",
    "\n",
    "def computecross(map_FM1,map_FM2,map_HM1,map_HM2):\n",
    "    CLcross=np.zeros((Ncross,len(leff)))\n",
    "    z=0\n",
    "    for i in range(0,N_freqs):\n",
    "        for j in range(i,N_freqs):\n",
    "            if i != j :\n",
    "                CLcross[z]=np.array((sim.compute_master(nmt.NmtField(mask, 1*map_FM1[i],purify_e=False, purify_b=True), nmt.NmtField(mask, 1*map_FM2[j],purify_e=False, purify_b=True), wsp_dc[z]))[3])\n",
    "            if i==j :\n",
    "                CLcross[z]=np.array((sim.compute_master(nmt.NmtField(mask, 1*map_HM1[i],purify_e=False, purify_b=True), nmt.NmtField(mask, 1*map_HM2[j],purify_e=False, purify_b=True), wsp_dc[z]))[3])\n",
    "            z = z +1\n",
    "    return CLcross\n",
    "\n",
    "DLcross_coadd= np.zeros((N,Ncross,len(leff)))\n",
    "\n",
    "for k in tqdm(range(0,N)):\n",
    "    #addition du bruit aux cartes\n",
    "    map_FM =    mapfg +  noisemaps[k,0] + mapcmb[k]\n",
    "    map_HM1 =   mapfg +  noisemaps[k,1]*np.sqrt(2) + mapcmb[k]\n",
    "    map_HM2 =   mapfg +  noisemaps[k,2]*np.sqrt(2) + mapcmb[k] \n",
    "    DLcross_coadd[k]= computecross(map_FM,map_FM,map_HM1,map_HM2)\n",
    "\n",
    "DLcross_fg = computecross(mapfg,mapfg,mapfg,mapfg)"
   ]
  },
  {
   "cell_type": "code",
   "execution_count": 17,
   "id": "afb3f73f-da54-45e5-93f6-2b54f4e0e153",
   "metadata": {
    "tags": []
   },
   "outputs": [],
   "source": [
    "DL_cross_noise=np.ones((Ncross,len(leff)))\n",
    "z=0\n",
    "for i in range(0,N_freqs): \n",
    "    for j in range(i,N_freqs):\n",
    "        DL_cross_noise[z]= 4*np.pi*sigpix[i]*sigpix[j]/Npix*DL_cross_noise[z]\n",
    "        z=z+1"
   ]
  },
  {
   "cell_type": "code",
   "execution_count": 18,
   "id": "dcf77b16-7c23-4cca-9bbd-aec2ead6f9b0",
   "metadata": {
    "tags": []
   },
   "outputs": [],
   "source": [
    "from collections import Counter\n",
    "\n",
    "def max_rep(arr):\n",
    "    counts = Counter(arr)  \n",
    "    return max(counts.values()) \n",
    "\n",
    "def cov_analytic(nu_i,nu_j,nu_k,nu_l,corrfog=True):\n",
    "    A = np.argwhere(freq==nu_i)[0,0]\n",
    "    B = np.argwhere(freq==nu_j)[0,0]\n",
    "    C = np.argwhere(freq==nu_k)[0,0]\n",
    "    D = np.argwhere(freq==nu_l)[0,0]\n",
    "    Nunique = max_rep([A,B,C,D])\n",
    "    poscrossAA= np.argwhere(nucross==np.sqrt(nu_i*nu_i))[0,0]\n",
    "    poscrossBB= np.argwhere(nucross==np.sqrt(nu_j*nu_j))[0,0]\n",
    "    poscrossAB= np.argwhere(nucross==np.sqrt(nu_i*nu_j))[0,0]\n",
    "    poscrossCD= np.argwhere(nucross==np.sqrt(nu_k*nu_l))[0,0]\n",
    "    poscrossAC= np.argwhere(nucross==np.sqrt(nu_i*nu_k))[0,0]\n",
    "    poscrossBD= np.argwhere(nucross==np.sqrt(nu_j*nu_l))[0,0]\n",
    "    poscrossAD= np.argwhere(nucross==np.sqrt(nu_i*nu_l))[0,0]\n",
    "    poscrossBC= np.argwhere(nucross==np.sqrt(nu_j*nu_k))[0,0]\n",
    "\n",
    "    v_l = (2*leff+1)*Nlbin*fsky\n",
    "    \n",
    "    if nu_i ==nu_k and nu_j == nu_l:\n",
    "        if nu_i==nu_j:\n",
    "            DLAB =  DL_lens[poscrossAA] + 2*DL_cross_noise[poscrossAA] +DLcross_fg[poscrossAA]\n",
    "            DLAA =  DLAB \n",
    "            DLBB =  DLAB\n",
    "        else:\n",
    "            DLAB = DLcross_fg[poscrossAB] + DL_lens[poscrossAB] + DL_cross_noise[poscrossAB]\n",
    "            DLAA = DL_lens[poscrossAA] + DL_cross_noise[poscrossAA] +DLcross_fg[poscrossAA]\n",
    "            DLBB = DL_lens[poscrossBB] + DL_cross_noise[poscrossBB] +DLcross_fg[poscrossBB]\n",
    "        \n",
    "        if corrfog==True:\n",
    "            covmat = (DLAB**2+DLAA*DLBB - DLcross_fg[poscrossAB]**2 -DLcross_fg[poscrossAA]*DLcross_fg[poscrossBB])/v_l\n",
    "        else:\n",
    "            covmat = (DLAB**2+DLAA*DLBB - DLcross_fg[poscrossAB]**2)/v_l\n",
    "    elif Nunique==1 or Nunique==3 or nu_i==nu_j and nu_k==nu_l:\n",
    "        DLAC= DLcross_fg[poscrossAC] + DL_lens[poscrossAC]\n",
    "        DLBD= DLcross_fg[poscrossBD] + DL_lens[poscrossBD]\n",
    "        DLAD= DLcross_fg[poscrossAD] + DL_lens[poscrossAD]\n",
    "        DLBC= DLcross_fg[poscrossBC] + DL_lens[poscrossBC]\n",
    "        if corrfog==True:\n",
    "            covmat = (DLAC*DLBD+DLAD*DLBC - DLcross_fg[poscrossAC]*DLcross_fg[poscrossBD] - DLcross_fg[poscrossAD]*DLcross_fg[poscrossBC])/v_l\n",
    "        else: \n",
    "            covmat = (DLAC*DLBD+DLAD*DLBC)/v_l\n",
    "    #elif nu_i==nu_j and nu_k==nu_l:\n",
    "     #   DLAB = DLcross_fg[poscrossAB] + DL_lens[poscrossAB]\n",
    "     #   if corrfog==True:\n",
    "     #       covmat = 2*(DLAB**2 - DLcross_fg[poscrossAB]**2)/v_l\n",
    "      #  else:\n",
    "      #      covmat = 2*(DLAB**2)/v_l\n",
    "    return covmat\n"
   ]
  },
  {
   "cell_type": "code",
   "execution_count": 19,
   "id": "9a624101-4641-4213-b705-a9d352f0b685",
   "metadata": {},
   "outputs": [],
   "source": [
    "def cov_analytic_signal(nu_i,nu_j,nu_k,nu_l):\n",
    "    A = np.argwhere(freq==nu_i)[0,0]\n",
    "    B = np.argwhere(freq==nu_j)[0,0]\n",
    "    C = np.argwhere(freq==nu_k)[0,0]\n",
    "    D = np.argwhere(freq==nu_l)[0,0]\n",
    "    poscrossAC= np.argwhere(nucross==np.sqrt(nu_i*nu_k))[0,0]\n",
    "    poscrossBD= np.argwhere(nucross==np.sqrt(nu_j*nu_l))[0,0]\n",
    "    poscrossAD= np.argwhere(nucross==np.sqrt(nu_i*nu_l))[0,0]\n",
    "    poscrossBC= np.argwhere(nucross==np.sqrt(nu_j*nu_k))[0,0]\n",
    "\n",
    "    v_l = (2*leff+1)*Nlbin*fsky\n",
    "\n",
    "    DLAC= DLcross_coadd[0,poscrossAC] \n",
    "    DLBD= DLcross_coadd[0,poscrossBD]\n",
    "    DLAD= DLcross_coadd[0,poscrossAD]\n",
    "    DLBC= DLcross_coadd[0,poscrossBC]\n",
    "    \n",
    "    covmat= (DLAC*DLBD+DLAD*DLBC)/v_l\n",
    "    return covmat "
   ]
  },
  {
   "cell_type": "code",
   "execution_count": 20,
   "id": "c357c5db-21e6-4ffe-be15-c3cb36f5d1b7",
   "metadata": {
    "tags": []
   },
   "outputs": [],
   "source": [
    "def getcov(DL,ellbin,N):\n",
    "    return np.cov(np.swapaxes(DL[:N,:,ellbin],0,1))\n",
    "cov_add=np.array([getcov(DLcross_coadd,l,N) for l in range(len(leff))])"
   ]
  },
  {
   "cell_type": "code",
   "execution_count": 33,
   "id": "821fe304-9147-4fd7-a440-8534025d88f5",
   "metadata": {},
   "outputs": [
    {
     "data": {
      "image/png": "[encoded data removed]",
      "text/plain": [
       "<Figure size 792x576 with 1 Axes>"
      ]
     },
     "metadata": {
      "needs_background": "light"
     },
     "output_type": "display_data"
    }
   ],
   "source": [
    "import numpy as np\n",
    "import matplotlib.pyplot as plt\n",
    "from matplotlib.ticker import LogLocator\n",
    "\n",
    "freq1, freq2, freq3, freq4 = 40, 100, 119, 402\n",
    "\n",
    "plt.rcParams.update({\n",
    "    'font.size': 20,  \n",
    "    'axes.labelsize': 22,\n",
    "    'axes.titlesize': 24,\n",
    "    'legend.fontsize': 18,\n",
    "    'xtick.labelsize': 18,\n",
    "    'ytick.labelsize': 18\n",
    "})\n",
    "\n",
    "plt.figure(figsize=(11, 8)) \n",
    "\n",
    "poscrossAB = np.argwhere(nucross == np.sqrt(freq1 * freq2))[0, 0]\n",
    "poscrossCD = np.argwhere(nucross == np.sqrt(freq3 * freq4))[0, 0]\n",
    "\n",
    "plt.plot(leff, cov_add[:, poscrossAB, poscrossCD], label='Simulation', color='blue', linewidth=3)\n",
    "plt.plot(leff, cov_analytic(freq1, freq2, freq3, freq4), label='Analytical', color='forestgreen', linestyle='--', linewidth=3)\n",
    "plt.plot(leff, cov_analytic(freq1, freq2, freq3, freq4,corrfog=False), label='Analytical+fg', color='orange', linestyle='-', linewidth=3)\n",
    "plt.plot(leff, cov_analytic_signal(freq1, freq2, freq3, freq4), label='Analytical 2', color='red', linestyle='--', linewidth=3)\n",
    "\n",
    "plt.title(r'$(A,B,C,D)=(%d, %d, %d, %d)$' % (freq1, freq2, freq3, freq4))\n",
    "plt.xlabel(r'$\\ell$')\n",
    "plt.ylabel(r'${\\rm cov}(\\mathcal{D}_\\ell^{AB},\\mathcal{D}_\\ell^{CD}) \\quad[(\\mu {\\rm K}_{RJ})^4]$')\n",
    "\n",
    "ax = plt.gca()\n",
    "ax.set_yscale('log')\n",
    "\n",
    "yticks = 10.0 ** np.arange(-12, 1, 1)\n",
    "ax.set_yticks(yticks)\n",
    "for y in yticks:\n",
    "    ax.axhline(y=y, color='gray', linestyle='-', linewidth=0.75, alpha=0.5)  \n",
    "ax.grid(True, which='major', linestyle='-', linewidth=0.7, alpha=0.7)\n",
    "ax.grid(True, which='minor', linestyle='--', linewidth=0.5, alpha=0.4)\n",
    "ax.tick_params(axis='both', which='major', direction='in', length=8, width=1.5)\n",
    "ax.tick_params(axis='both', which='minor', direction='in', length=4, width=1)\n",
    "plt.xlim([8, 50])\n",
    "plt.ylim([1e-12, 1e-2])\n",
    "plt.legend(loc='upper right', frameon=False)\n",
    "plt.tight_layout()\n",
    "plt.savefig('./%sx%s_%sx%s_leo.pdf' % (freq1, freq2, freq3, freq4), dpi=300)\n",
    "plt.show()"
   ]
  },
  {
   "cell_type": "code",
   "execution_count": null,
   "id": "bf8c9781-9713-41d2-8514-f340455c924a",
   "metadata": {},
   "outputs": [],
   "source": []
  },
  {
   "cell_type": "code",
   "execution_count": null,
   "id": "2ea12290-a91f-4bfb-a40e-fc7154111ada",
   "metadata": {},
   "outputs": [],
   "source": []
  },
  {
   "cell_type": "code",
   "execution_count": null,
   "id": "f5ddb721-9304-4104-861c-48b8e1e18bad",
   "metadata": {},
   "outputs": [],
   "source": []
  }
 ],
 "metadata": {
  "kernelspec": {
   "display_name": "myenv",
   "language": "python",
   "name": "myenv"
  },
  "language_info": {
   "codemirror_mode": {
    "name": "ipython",
    "version": 3
   },
   "file_extension": ".py",
   "mimetype": "text/x-python",
   "name": "python",
   "nbconvert_exporter": "python",
   "pygments_lexer": "ipython3",
   "version": "3.8.13"
  }
 },
 "nbformat": 4,
 "nbformat_minor": 5
}
