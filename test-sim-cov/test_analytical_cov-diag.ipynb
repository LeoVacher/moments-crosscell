{
 "cells": [
  {
   "cell_type": "code",
   "execution_count": 1,
   "id": "f9b02766",
   "metadata": {
    "tags": []
   },
   "outputs": [],
   "source": [
    "import numpy as np\n",
    "import matplotlib.pyplot as plt\n",
    "import healpy as hp\n",
    "import pandas as pd\n",
    "import pymaster as nmt\n",
    "import scipy.linalg as LA\n",
    "plt.rcParams['font.family'] = 'sans-serif'  \n",
    "plt.rcParams['font.size'] = 20  "
   ]
  },
  {
   "cell_type": "code",
   "execution_count": 32,
   "id": "99921b6e",
   "metadata": {
    "tags": []
   },
   "outputs": [],
   "source": [
    "#import all\n",
    "import sys\n",
    "sys.path.append(\"../lib\")\n",
    "from tqdm import tqdm\n",
    "\n",
    "import numpy as np\n",
    "import healpy as hp\n",
    "import pymaster as nmt \n",
    "import pysm3\n",
    "import time\n",
    "from mpfit import mpfit\n",
    "import mpfitlib as mpl\n",
    "import scipy\n",
    "#from Nearest_Positive_Definite import *\n",
    "from matplotlib.backends.backend_pdf import PdfPages\n",
    "import matplotlib.patheffects as path_effects\n",
    "import scipy.stats as st\n",
    "import basicfunc as func\n",
    "import analys_lib as an\n",
    "import simu_lib as sim\n",
    "import pysm3.units as u\n",
    "\n",
    "#sim params\n",
    "\n",
    "r = 0\n",
    "nside = 32\n",
    "Npix = hp.nside2npix(nside)\n",
    "N= 2000\n",
    "lmax = nside*3-1\n",
    "#lmax=850\n",
    "scale = 10\n",
    "Nlbin = 10\n",
    "fsky = 1\n",
    "dusttype = 0\n",
    "syncrotype = 0\n",
    "kw = ''\n",
    "load=True\n",
    "\n",
    "\n",
    "# instr param\n",
    "\n",
    "ifreq=[0,9,21]\n",
    "instr_name='litebird_full'\n",
    "instr =  np.load(\"../lib/instr_dict/%s.npy\"%instr_name,allow_pickle=True).item()\n",
    "freq= instr['frequencies']\n",
    "sens_P= instr['sens_P']\n",
    "freq=freq[ifreq]\n",
    "sens_P=sens_P[ifreq]\n",
    "sigpix= sens_P/(np.sqrt((4*np.pi)/Npix*(60*180/np.pi)**2))\n",
    "b = nmt.bins.NmtBin(nside=nside,lmax=lmax,nlb=Nlbin)\n",
    "leff = b.get_effective_ells()\n",
    "N_freqs =len(freq)\n",
    "Ncross=int(N_freqs*(N_freqs+1)/2)\n",
    "\n",
    "nucross = []\n",
    "for i in range(0,N_freqs):\n",
    "    for j in range(i,N_freqs):\n",
    "        nucross.append(np.sqrt(freq[i]*freq[j]))\n",
    "nucross = np.array(nucross)\n",
    "\n",
    "\n",
    "#cmb\n",
    "CLcmb_or=hp.read_cl('../CLsimus/Cls_Planck2018_r0.fits') #TT EE BB TE\n",
    "DL_lens = leff*(leff+1)*b.bin_cell(CLcmb_or[2,2:lmax+3])/2/np.pi\n",
    "\n",
    "#mask\n",
    "if fsky==1:\n",
    "    mask =  np.ones(Npix)\n",
    "else:\n",
    "    mask = hp.read_map(\"../masks/mask_fsky%s_nside%s_aposcale%s.npy\"%(fsky,nside,scale))\n",
    "\n",
    "#call foreground sky\n",
    "if dusttype==None and syncrotype==None:\n",
    "    mapfg=np.zeros((N_freqs,2,Npix))\n",
    "else:\n",
    "    if dusttype==None:\n",
    "        sky = pysm3.Sky(nside=512, preset_strings=['s%s'%syncrotype])#,'s%s'%synctype])\n",
    "    if syncrotype==None:\n",
    "        sky = pysm3.Sky(nside=512, preset_strings=['d%s'%dusttype])#,'s%s'%synctype])\n",
    "    if syncrotype!=None and dusttype!=None:\n",
    "        sky = pysm3.Sky(nside=512, preset_strings=['d%s'%dusttype,'s%s'%syncrotype])\n",
    "    mapfg= np.array([sim.downgrade_map(sky.get_emission(freq[f] * u.GHz).to(u.uK_CMB, equivalencies=u.cmb_equivalencies(freq[f]*u.GHz)),nside_in=512,nside_out=nside) for f in range(len(freq))])\n",
    "    mapfg=mapfg[:,1:]\n",
    "\n",
    "#np.save(\"./test-sim-cov/map-test/mapfg.npy\",mapfg)\n",
    "\n",
    "# call cmb"
   ]
  },
  {
   "cell_type": "code",
   "execution_count": 33,
   "id": "1349c8e2-ad9f-4a4f-b50c-f78bac08e85c",
   "metadata": {
    "tags": []
   },
   "outputs": [
    {
     "name": "stderr",
     "output_type": "stream",
     "text": [
      "100%|██████████| 2000/2000 [00:13<00:00, 148.52it/s]\n"
     ]
    }
   ],
   "source": [
    "# create N sims\n",
    "noisemaps= np.zeros((N,3,N_freqs,2,Npix))\n",
    "mapcmb = np.zeros((N,N_freqs,2,Npix))\n",
    "\n",
    "for k in tqdm(range(0,N)):\n",
    "    for p in range(3):\n",
    "        for i in range(N_freqs):\n",
    "            noisemaps[k,p,i,0] =np.random.normal(0,sigpix[i],size=Npix)\n",
    "            noisemaps[k,p,i,1] =np.random.normal(0,sigpix[i],size=Npix)\n",
    "    \n",
    "    mapcmb0= hp.synfast(CLcmb_or,nside,pixwin=False,new=True)\n",
    "    mapcmb1 = np.array([mapcmb0 for i in range(N_freqs)])\n",
    "    mapcmb[k] = mapcmb1[:,1:]\n"
   ]
  },
  {
   "cell_type": "code",
   "execution_count": 34,
   "id": "38b2dbda",
   "metadata": {
    "tags": []
   },
   "outputs": [
    {
     "name": "stderr",
     "output_type": "stream",
     "text": [
      "100%|██████████| 2000/2000 [05:57<00:00,  5.59it/s]\n"
     ]
    }
   ],
   "source": [
    "#workspace\n",
    "wsp_dc=[]\n",
    "for i in range(0,N_freqs): \n",
    "    for j in range(i,N_freqs):\n",
    "        w_dc = nmt.NmtWorkspace()\n",
    "        if i != j :\n",
    "            w_dc.compute_coupling_matrix(nmt.NmtField(mask, 1*mapfg[i],purify_e=False, purify_b=True), nmt.NmtField(mask,1*mapfg[j],purify_e=False, purify_b=True), b)\n",
    "        if i==j :\n",
    "            w_dc.compute_coupling_matrix(nmt.NmtField(mask, 1*mapfg[i],purify_e=False, purify_b=True), nmt.NmtField(mask, 1*mapfg[j],purify_e=False, purify_b=True), b)\n",
    "        wsp_dc.append(w_dc)\n",
    " \n",
    "wsp_dc=np.array(wsp_dc)\n",
    "\n",
    "def computecross(mapauto1,mapauto2,mapcross1,mapcross2):\n",
    "    CLcross=np.zeros((Ncross,len(leff)))\n",
    "    z=0\n",
    "    for i in range(0,N_freqs):\n",
    "        for j in range(i,N_freqs):\n",
    "            if i != j :\n",
    "                CLcross[z]=np.array((sim.compute_master(nmt.NmtField(mask, 1*mapauto1[i],purify_e=False, purify_b=True), nmt.NmtField(mask, 1*mapauto2[j],purify_e=False, purify_b=True), wsp_dc[z]))[3])\n",
    "            if i==j :\n",
    "                CLcross[z]=np.array((sim.compute_master(nmt.NmtField(mask, 1*mapcross1[i],purify_e=False, purify_b=True), nmt.NmtField(mask, 1*mapcross2[j],purify_e=False, purify_b=True), wsp_dc[z]))[3])\n",
    "            z = z +1\n",
    "    return leff*(leff+1)*CLcross/2/np.pi\n",
    "\n",
    "DLcross_coadd= np.zeros((N,Ncross,len(leff)))\n",
    "\n",
    "for k in tqdm(range(0,N)):\n",
    "    #addition du bruit aux cartes\n",
    "    mapauto =   mapfg+  noisemaps[k,0] + mapcmb[k]\n",
    "    mapcross1 =  mapfg+  noisemaps[k,1]*np.sqrt(2) + mapcmb[k]\n",
    "    mapcross2 =  mapfg+  noisemaps[k,2]*np.sqrt(2) + mapcmb[k]\n",
    "    DLcross_coadd[k]= computecross(mapauto,mapauto,mapcross1,mapcross2)\n",
    "\n",
    "DLcross_fg = computecross(mapfg,mapfg,mapfg,mapfg)"
   ]
  },
  {
   "cell_type": "code",
   "execution_count": 35,
   "id": "afb3f73f-da54-45e5-93f6-2b54f4e0e153",
   "metadata": {
    "tags": []
   },
   "outputs": [],
   "source": [
    "DL_cross_noise= 2*np.array([leff*(leff+1)*sigpix[i]**2/Npix for i in range(N_freqs)])"
   ]
  },
  {
   "cell_type": "code",
   "execution_count": 36,
   "id": "dcf77b16-7c23-4cca-9bbd-aec2ead6f9b0",
   "metadata": {
    "tags": []
   },
   "outputs": [],
   "source": [
    "def cov_analytic(nu_i,nu_j):\n",
    "    i = np.argwhere(freq==nu_i)[0,0]\n",
    "    j = np.argwhere(freq==nu_j)[0,0]\n",
    "    poscross= np.argwhere(nucross==np.sqrt(nu_i*nu_j))[0,0]\n",
    "    ncross=len(nucross)\n",
    "    nnus = int((-1 + np.sqrt(ncross * 8 + 1)) / 2.)\n",
    "    posauto = [int(nnus * i - i * (i + 1) / 2 + i) for i in range(nnus)]\n",
    "    auto_i=posauto[i]\n",
    "    auto_j=posauto[j]\n",
    "    v_l = (2*leff+1)*Nlbin*fsky\n",
    "    if nu_i==nu_j:\n",
    "        DLAB =  DL_lens + np.sqrt(2)*DL_cross_noise[i] +DLcross_fg[poscross]\n",
    "        DLAA =  DL_lens + np.sqrt(2)*DL_cross_noise[i] +DLcross_fg[auto_i]\n",
    "        DLBB =  DL_lens + np.sqrt(2)*DL_cross_noise[j] +DLcross_fg[auto_j] \n",
    "    else:\n",
    "        DLAB = DLcross_fg + DL_lens[poscross] + np.sqrt(DL_cross_noise[i]*DL_cross_noise[j]/2)\n",
    "        DLAA = DL_lens + DL_cross_noise[i] +DLcross_fg[auto_i]\n",
    "        DLBB = DL_lens + DL_cross_noise[j] +DLcross_fg[auto_j]\n",
    "    return (DLAB**2+DLAA*DLBB - DLcross_fg[auto_i]*DLcross_fg[auto_j]- DLcross_fg[poscross]**2 )/v_l\n",
    "    #return (DLAB**2+DLAA*DLBB)/v_l"
   ]
  },
  {
   "cell_type": "code",
   "execution_count": 37,
   "id": "9a624101-4641-4213-b705-a9d352f0b685",
   "metadata": {},
   "outputs": [],
   "source": [
    "def cov_analytic_signal(nu_i,nu_j):\n",
    "    i = np.argwhere(freq==nu_i)[0,0]\n",
    "    j = np.argwhere(freq==nu_j)[0,0]\n",
    "    poscross= np.argwhere(nucross==np.sqrt(nu_i*nu_j))[0,0]\n",
    "    ncross=len(nucross)\n",
    "    nnus = int((-1 + np.sqrt(ncross * 8 + 1)) / 2.)\n",
    "    posauto = [int(nnus * i - i * (i + 1) / 2 + i) for i in range(nnus)]\n",
    "    auto_i=posauto[i]\n",
    "    auto_j=posauto[j]\n",
    "    DLAB = DLcross_coadd[0,poscross]\n",
    "    DLAA = DLcross_coadd[0,auto_i]\n",
    "    DLBB = DLcross_coadd[0,auto_j]    \n",
    "    v_l = (2*leff+1)*Nlbin*fsky\n",
    "    return (DLAB**2+DLAA*DLBB)/v_l"
   ]
  },
  {
   "cell_type": "code",
   "execution_count": 38,
   "id": "c357c5db-21e6-4ffe-be15-c3cb36f5d1b7",
   "metadata": {
    "tags": []
   },
   "outputs": [],
   "source": [
    "def getcov(DL,ellbin,N):\n",
    "    return np.cov(np.swapaxes(DL[:N,:,ellbin],0,1))\n",
    "cov_add=np.array([getcov(DLcross_coadd,l,N) for l in range(len(leff))])"
   ]
  },
  {
   "cell_type": "code",
   "execution_count": 40,
   "id": "944bafb2-0a97-46cf-bfbc-eb59356be3ed",
   "metadata": {
    "tags": []
   },
   "outputs": [
    {
     "data": {
      "image/png": "[encoded data removed]",
      "text/plain": [
       "<Figure size 720x576 with 1 Axes>"
      ]
     },
     "metadata": {
      "needs_background": "light"
     },
     "output_type": "display_data"
    }
   ],
   "source": [
    "plt.rcParams['font.size'] = 28  \n",
    "plt.figure(figsize=(10,8))\n",
    "freq1=402\n",
    "freq2=402\n",
    "poscross= np.argwhere(nucross==np.sqrt(freq1*freq2))[0,0]\n",
    "plt.plot(leff,cov_add[:,poscross,poscross],label='sim',c='blue',linewidth=3)\n",
    "plt.plot(leff,cov_analytic(freq1,freq2),label='analytical',c='forestgreen',linestyle='--',linewidth=3)\n",
    "plt.plot(leff,cov_analytic_signal(freq1,freq2),label='analytical 2',c='red',linestyle='--',linewidth=3)\n",
    "\n",
    "plt.title('%sx%s'%(freq1,freq2))\n",
    "plt.xlabel(r'$\\ell$')\n",
    "plt.ylabel(r'Var$(\\mathcal{D}_\\ell)$')\n",
    "plt.semilogy()\n",
    "plt.legend()\n",
    "plt.show()"
   ]
  },
  {
   "cell_type": "code",
   "execution_count": null,
   "id": "e966497c-75e5-4760-a96d-6df5dd15c27b",
   "metadata": {},
   "outputs": [],
   "source": []
  },
  {
   "cell_type": "code",
   "execution_count": null,
   "id": "a5e78aef-6f4a-41d1-b82e-e996d928fff0",
   "metadata": {},
   "outputs": [],
   "source": []
  },
  {
   "cell_type": "code",
   "execution_count": null,
   "id": "198f4611-8f87-42ad-976e-a3312853c149",
   "metadata": {},
   "outputs": [],
   "source": []
  }
 ],
 "metadata": {
  "kernelspec": {
   "display_name": "myenv",
   "language": "python",
   "name": "myenv"
  },
  "language_info": {
   "codemirror_mode": {
    "name": "ipython",
    "version": 3
   },
   "file_extension": ".py",
   "mimetype": "text/x-python",
   "name": "python",
   "nbconvert_exporter": "python",
   "pygments_lexer": "ipython3",
   "version": "3.8.13"
  }
 },
 "nbformat": 4,
 "nbformat_minor": 5
}
